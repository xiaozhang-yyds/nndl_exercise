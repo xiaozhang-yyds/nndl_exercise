{
 "cells": [
  {
   "cell_type": "markdown",
   "metadata": {},
   "source": [
    "## 准备数据"
   ]
  },
  {
   "cell_type": "code",
   "execution_count": 1,
   "metadata": {},
   "outputs": [],
   "source": [
    "import os\n",
    "import numpy as np\n",
    "import tensorflow as tf\n",
    "from tensorflow import keras\n",
    "from tensorflow.keras import layers, optimizers, datasets\n",
    "\n",
    "os.environ['TF_CPP_MIN_LOG_LEVEL'] = '2'  # or any {'0', '1', '2'}\n",
    "\n",
    "def mnist_dataset():\n",
    "    (x, y), (x_test, y_test) = datasets.mnist.load_data()\n",
    "    #normalize\n",
    "    x = x/255.0\n",
    "    x_test = x_test/255.0\n",
    "    \n",
    "    return (x, y), (x_test, y_test)"
   ]
  },
  {
   "cell_type": "code",
   "execution_count": 2,
   "metadata": {},
   "outputs": [
    {
     "name": "stdout",
     "output_type": "stream",
     "text": [
      "[(1, 'a'), (2, 'b'), (3, 'c'), (4, 'd')]\n"
     ]
    }
   ],
   "source": [
    "print(list(zip([1, 2, 3, 4], ['a', 'b', 'c', 'd'])))"
   ]
  },
  {
   "cell_type": "markdown",
   "metadata": {},
   "source": [
    "## 建立模型"
   ]
  },
  {
   "cell_type": "code",
   "execution_count": 13,
   "metadata": {},
   "outputs": [],
   "source": [
    "class myModel:\n",
    "    def __init__(self):\n",
    "        ####################\n",
    "        '''声明模型对应的参数'''\n",
    "        # 初始化两层权重参数 (MNIST输入28x28=784)\n",
    "        self.W1 = tf.Variable(np.random.randn(784, 256) * 0.01, dtype=tf.float32)\n",
    "        self.b1 = tf.Variable(np.zeros(256), dtype=tf.float32)  # 添加第一层的偏置\n",
    "        \n",
    "        self.W2 = tf.Variable(np.random.randn(256, 10) * 0.01, dtype=tf.float32)\n",
    "        self.b2 = tf.Variable(np.zeros(10), dtype=tf.float32)  # 添加第二层的偏置\n",
    "        ####################\n",
    "\n",
    "\n",
    "    def __call__(self, x):\n",
    "        ####################\n",
    "        '''实现模型函数体，返回未归一化的logits'''\n",
    "         # 展平输入 (N, 28, 28) -> (N, 784)\n",
    "        x = tf.reshape(x, [-1, 784])\n",
    "        # 第一层: 输入层 -> 隐藏层 (带ReLU)\n",
    "        x = tf.matmul(x, self.W1) + self.b1\n",
    "        x = tf.maximum(0.0,x)\n",
    "        # 第二层: 隐藏层 -> 输出层 (无激活函数)\n",
    "        logits = tf.matmul(x, self.W2) + self.b2\n",
    "        ####################\n",
    "        return logits\n",
    "        \n",
    "model = myModel()\n",
    "\n",
    "optimizer = optimizers.Adam()"
   ]
  },
  {
   "cell_type": "markdown",
   "metadata": {},
   "source": [
    "## 计算 loss"
   ]
  },
  {
   "cell_type": "code",
   "execution_count": 14,
   "metadata": {},
   "outputs": [],
   "source": [
    "@tf.function\n",
    "def compute_loss(logits, labels):\n",
    "    return tf.reduce_mean(\n",
    "        tf.nn.sparse_softmax_cross_entropy_with_logits(\n",
    "            logits=logits, labels=labels))\n",
    "\n",
    "@tf.function\n",
    "def compute_accuracy(logits, labels):\n",
    "    predictions = tf.argmax(logits, axis=1)\n",
    "    return tf.reduce_mean(tf.cast(tf.equal(predictions, labels), tf.float32))\n",
    "\n",
    "@tf.function\n",
    "def train_one_step(model, optimizer, x, y):\n",
    "    with tf.GradientTape() as tape:\n",
    "        logits = model(x)\n",
    "        loss = compute_loss(logits, y)\n",
    "\n",
    "    # compute gradient\n",
    "    trainable_vars = [model.W1, model.W2, model.b1, model.b2]\n",
    "    grads = tape.gradient(loss, trainable_vars)\n",
    "    for g, v in zip(grads, trainable_vars):\n",
    "        v.assign_sub(0.01*g)\n",
    "\n",
    "    accuracy = compute_accuracy(logits, y)\n",
    "\n",
    "    # loss and accuracy is scalar tensor\n",
    "    return loss, accuracy\n",
    "\n",
    "@tf.function\n",
    "def test(model, x, y):\n",
    "    logits = model(x)\n",
    "    loss = compute_loss(logits, y)\n",
    "    accuracy = compute_accuracy(logits, y)\n",
    "    return loss, accuracy"
   ]
  },
  {
   "cell_type": "markdown",
   "metadata": {},
   "source": [
    "## 实际训练"
   ]
  },
  {
   "cell_type": "code",
   "execution_count": 15,
   "metadata": {},
   "outputs": [
    {
     "name": "stdout",
     "output_type": "stream",
     "text": [
      "epoch 0 : loss 2.3020937 ; accuracy 0.1048\n",
      "epoch 1 : loss 2.3018756 ; accuracy 0.10978334\n",
      "epoch 2 : loss 2.3016572 ; accuracy 0.114483334\n",
      "epoch 3 : loss 2.3014388 ; accuracy 0.11883333\n",
      "epoch 4 : loss 2.3012204 ; accuracy 0.124466665\n",
      "epoch 5 : loss 2.301002 ; accuracy 0.12913333\n",
      "epoch 6 : loss 2.3007839 ; accuracy 0.13373333\n",
      "epoch 7 : loss 2.3005655 ; accuracy 0.13895\n",
      "epoch 8 : loss 2.3003469 ; accuracy 0.14386667\n",
      "epoch 9 : loss 2.3001282 ; accuracy 0.14983334\n",
      "epoch 10 : loss 2.2999094 ; accuracy 0.15563333\n",
      "epoch 11 : loss 2.2996907 ; accuracy 0.16228333\n",
      "epoch 12 : loss 2.2994716 ; accuracy 0.16821666\n",
      "epoch 13 : loss 2.299252 ; accuracy 0.17465\n",
      "epoch 14 : loss 2.299033 ; accuracy 0.1809\n",
      "epoch 15 : loss 2.298813 ; accuracy 0.18761666\n",
      "epoch 16 : loss 2.298593 ; accuracy 0.19458333\n",
      "epoch 17 : loss 2.298373 ; accuracy 0.20296666\n",
      "epoch 18 : loss 2.2981524 ; accuracy 0.20985\n",
      "epoch 19 : loss 2.2979314 ; accuracy 0.21716666\n",
      "epoch 20 : loss 2.2977104 ; accuracy 0.22416666\n",
      "epoch 21 : loss 2.2974892 ; accuracy 0.23233333\n",
      "epoch 22 : loss 2.2972672 ; accuracy 0.23983334\n",
      "epoch 23 : loss 2.2970448 ; accuracy 0.24741666\n",
      "epoch 24 : loss 2.296822 ; accuracy 0.25471666\n",
      "epoch 25 : loss 2.296599 ; accuracy 0.2614\n",
      "epoch 26 : loss 2.2963755 ; accuracy 0.2689\n",
      "epoch 27 : loss 2.2961516 ; accuracy 0.27575\n",
      "epoch 28 : loss 2.295927 ; accuracy 0.28298333\n",
      "epoch 29 : loss 2.2957017 ; accuracy 0.29058334\n",
      "epoch 30 : loss 2.295476 ; accuracy 0.29816666\n",
      "epoch 31 : loss 2.29525 ; accuracy 0.30516666\n",
      "epoch 32 : loss 2.2950234 ; accuracy 0.31243333\n",
      "epoch 33 : loss 2.294796 ; accuracy 0.31965\n",
      "epoch 34 : loss 2.2945683 ; accuracy 0.327\n",
      "epoch 35 : loss 2.2943397 ; accuracy 0.33483332\n",
      "epoch 36 : loss 2.2941103 ; accuracy 0.34155\n",
      "epoch 37 : loss 2.2938805 ; accuracy 0.34743333\n",
      "epoch 38 : loss 2.29365 ; accuracy 0.35406667\n",
      "epoch 39 : loss 2.2934186 ; accuracy 0.36048332\n",
      "epoch 40 : loss 2.2931864 ; accuracy 0.36673334\n",
      "epoch 41 : loss 2.292954 ; accuracy 0.37301666\n",
      "epoch 42 : loss 2.2927203 ; accuracy 0.37951666\n",
      "epoch 43 : loss 2.292486 ; accuracy 0.3854\n",
      "epoch 44 : loss 2.292251 ; accuracy 0.3916\n",
      "epoch 45 : loss 2.2920148 ; accuracy 0.39815\n",
      "epoch 46 : loss 2.291778 ; accuracy 0.40343332\n",
      "epoch 47 : loss 2.2915401 ; accuracy 0.40895\n",
      "epoch 48 : loss 2.2913015 ; accuracy 0.41463333\n",
      "epoch 49 : loss 2.2910619 ; accuracy 0.41988334\n",
      "test loss 2.2904973 ; accuracy 0.4415\n"
     ]
    }
   ],
   "source": [
    "train_data, test_data = mnist_dataset()\n",
    "for epoch in range(50):\n",
    "    loss, accuracy = train_one_step(model, optimizer, \n",
    "                                    tf.constant(train_data[0], dtype=tf.float32), \n",
    "                                    tf.constant(train_data[1], dtype=tf.int64))\n",
    "    print('epoch', epoch, ': loss', loss.numpy(), '; accuracy', accuracy.numpy())\n",
    "loss, accuracy = test(model, \n",
    "                      tf.constant(test_data[0], dtype=tf.float32), \n",
    "                      tf.constant(test_data[1], dtype=tf.int64))\n",
    "\n",
    "print('test loss', loss.numpy(), '; accuracy', accuracy.numpy())"
   ]
  }
 ],
 "metadata": {
  "kernelspec": {
   "display_name": "base",
   "language": "python",
   "name": "python3"
  },
  "language_info": {
   "codemirror_mode": {
    "name": "ipython",
    "version": 3
   },
   "file_extension": ".py",
   "mimetype": "text/x-python",
   "name": "python",
   "nbconvert_exporter": "python",
   "pygments_lexer": "ipython3",
   "version": "3.12.7"
  }
 },
 "nbformat": 4,
 "nbformat_minor": 2
}
